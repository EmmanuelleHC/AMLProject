{
 "cells": [
  {
   "cell_type": "code",
   "execution_count": 1,
   "metadata": {},
   "outputs": [
    {
     "name": "stdout",
     "output_type": "stream",
     "text": [
      "Publishing records..\n",
      "Message published successfully. Data: [{'Timestamp': '2023-12-30 10:44:41', 'From_Bank': '011', 'Account': '8000ECA90', 'To_Bank': '011', 'To_Account': '8000ECA90', 'Amount_Received': '3195403.00', 'Receiving_Currency': 'US Dollar', 'Amount_Paid': '3195403.00', 'Payment_Currency': 'US Dollar', 'Payment_Format': 'Reinvestment', 'Is_Laundering': '0'}, {'Timestamp': '2023-12-30 10:44:42', 'From_Bank': '03402', 'Account': '80021DAD0', 'To_Bank': '03402', 'To_Account': '80021DAD0', 'Amount_Received': '1858.96', 'Receiving_Currency': 'US Dollar', 'Amount_Paid': '1858.96', 'Payment_Currency': 'US Dollar', 'Payment_Format': 'Reinvestment', 'Is_Laundering': '0'}, {'Timestamp': '2023-12-30 10:44:43', 'From_Bank': '011', 'Account': '8000ECA90', 'To_Bank': '001120', 'To_Account': '8006AA910', 'Amount_Received': '592571.00', 'Receiving_Currency': 'US Dollar', 'Amount_Paid': '592571.00', 'Payment_Currency': 'US Dollar', 'Payment_Format': 'Cheque', 'Is_Laundering': '0'}, {'Timestamp': '2023-12-30 10:44:44', 'From_Bank': '03814', 'Account': '8006AD080', 'To_Bank': '03814', 'To_Account': '8006AD080', 'Amount_Received': '12.32', 'Receiving_Currency': 'US Dollar', 'Amount_Paid': '12.32', 'Payment_Currency': 'US Dollar', 'Payment_Format': 'Reinvestment', 'Is_Laundering': '0'}, {'Timestamp': '2023-12-30 10:44:45', 'From_Bank': '020', 'Account': '8006AD530', 'To_Bank': '020', 'To_Account': '8006AD530', 'Amount_Received': '2941.56', 'Receiving_Currency': 'US Dollar', 'Amount_Paid': '2941.56', 'Payment_Currency': 'US Dollar', 'Payment_Format': 'Reinvestment', 'Is_Laundering': '0'}]\n",
      "Message published successfully. Data: [{'Timestamp': '2023-12-30 10:44:46', 'From_Bank': '012', 'Account': '8006ADD30', 'To_Bank': '012', 'To_Account': '8006ADD30', 'Amount_Received': '6473.62', 'Receiving_Currency': 'US Dollar', 'Amount_Paid': '6473.62', 'Payment_Currency': 'US Dollar', 'Payment_Format': 'Reinvestment', 'Is_Laundering': '0'}, {'Timestamp': '2023-12-30 10:44:47', 'From_Bank': '011', 'Account': '800059120', 'To_Bank': '01217', 'To_Account': '8006AD4E0', 'Amount_Received': '60562.00', 'Receiving_Currency': 'US Dollar', 'Amount_Paid': '60562.00', 'Payment_Currency': 'US Dollar', 'Payment_Format': 'ACH', 'Is_Laundering': '0'}, {'Timestamp': '2023-12-30 10:44:48', 'From_Bank': '011', 'Account': '8000ECA90', 'To_Bank': '011', 'To_Account': '8000ECA90', 'Amount_Received': '22.97', 'Receiving_Currency': 'US Dollar', 'Amount_Paid': '22.97', 'Payment_Currency': 'US Dollar', 'Payment_Format': 'Reinvestment', 'Is_Laundering': '0'}, {'Timestamp': '2023-12-30 10:44:49', 'From_Bank': '001120', 'Account': '8006AA910', 'To_Bank': '0243166', 'To_Account': '81470DCF0', 'Amount_Received': '43.53', 'Receiving_Currency': 'US Dollar', 'Amount_Paid': '43.53', 'Payment_Currency': 'US Dollar', 'Payment_Format': 'Credit Card', 'Is_Laundering': '0'}, {'Timestamp': '2023-12-30 10:44:50', 'From_Bank': '01217', 'Account': '8006AD4E0', 'To_Bank': '01217', 'To_Account': '8006AD4E0', 'Amount_Received': '5.04', 'Receiving_Currency': 'US Dollar', 'Amount_Paid': '5.04', 'Payment_Currency': 'US Dollar', 'Payment_Format': 'Reinvestment', 'Is_Laundering': '0'}]\n",
      "Message published successfully. Data: [{'Timestamp': '2023-12-30 10:44:51', 'From_Bank': '0224', 'Account': '8006AD580', 'To_Bank': '023319', 'To_Account': '80567ED00', 'Amount_Received': '9.28', 'Receiving_Currency': 'US Dollar', 'Amount_Paid': '9.28', 'Payment_Currency': 'US Dollar', 'Payment_Format': 'Credit Card', 'Is_Laundering': '0'}, {'Timestamp': '2023-12-30 10:44:52', 'From_Bank': '00394', 'Account': '8006AF210', 'To_Bank': '0214342', 'To_Account': '805586EA0', 'Amount_Received': '93.85', 'Receiving_Currency': 'US Dollar', 'Amount_Paid': '93.85', 'Payment_Currency': 'US Dollar', 'Payment_Format': 'Credit Card', 'Is_Laundering': '0'}, {'Timestamp': '2023-12-30 10:44:53', 'From_Bank': '03618', 'Account': '800929EA0', 'To_Bank': '001277', 'To_Account': '800929EF0', 'Amount_Received': '0.05', 'Receiving_Currency': 'US Dollar', 'Amount_Paid': '0.05', 'Payment_Currency': 'US Dollar', 'Payment_Format': 'ACH', 'Is_Laundering': '0'}, {'Timestamp': '2023-12-30 10:44:54', 'From_Bank': '00394', 'Account': '80093BDB0', 'To_Bank': '021414', 'To_Account': '80092A6C0', 'Amount_Received': '64335.00', 'Receiving_Currency': 'US Dollar', 'Amount_Paid': '64335.00', 'Payment_Currency': 'US Dollar', 'Payment_Format': 'ACH', 'Is_Laundering': '0'}, {'Timestamp': '2023-12-30 10:44:55', 'From_Bank': '01291', 'Account': '80092A730', 'To_Bank': '01291', 'To_Account': '80092A730', 'Amount_Received': '3975.24', 'Receiving_Currency': 'US Dollar', 'Amount_Paid': '3975.24', 'Payment_Currency': 'US Dollar', 'Payment_Format': 'Reinvestment', 'Is_Laundering': '0'}]\n"
     ]
    },
    {
     "ename": "KeyboardInterrupt",
     "evalue": "",
     "output_type": "error",
     "traceback": [
      "\u001b[0;31m---------------------------------------------------------------------------\u001b[0m",
      "\u001b[0;31mKeyboardInterrupt\u001b[0m                         Traceback (most recent call last)",
      "Cell \u001b[0;32mIn[1], line 68\u001b[0m\n\u001b[1;32m     65\u001b[0m         publish_message(producer, topic, records_to_publish)\n\u001b[1;32m     66\u001b[0m         records_to_publish \u001b[38;5;241m=\u001b[39m []\n\u001b[0;32m---> 68\u001b[0m     \u001b[43msleep\u001b[49m\u001b[43m(\u001b[49m\u001b[38;5;241;43m1\u001b[39;49m\u001b[43m)\u001b[49m\n\u001b[1;32m     70\u001b[0m \u001b[38;5;28;01mif\u001b[39;00m records_to_publish:\n\u001b[1;32m     71\u001b[0m     publish_message(producer, topic, records_to_publish)\n",
      "\u001b[0;31mKeyboardInterrupt\u001b[0m: "
     ]
    }
   ],
   "source": [
    "from time import sleep\n",
    "from json import dumps\n",
    "from kafka3 import KafkaProducer\n",
    "import datetime as dt\n",
    "import csv\n",
    "\n",
    "hostip = \"192.168.1.111\"\n",
    "\n",
    "def publish_message(producer_instance, topic_name, data):\n",
    "    try:\n",
    "        producer_instance.send(topic_name, data)\n",
    "        print('Message published successfully. Data: ' + str(data))\n",
    "    except Exception as ex:\n",
    "        print('Exception in publishing message.')\n",
    "        print(str(ex))\n",
    "\n",
    "def connect_kafka_producer():\n",
    "    _producer = None\n",
    "    try:\n",
    "        _producer = KafkaProducer(bootstrap_servers=[f'{hostip}:9092'],\n",
    "                                  value_serializer=lambda x: dumps(x).encode('ascii'),\n",
    "                                  api_version=(0, 10))\n",
    "    except Exception as ex:\n",
    "        print('Exception while connecting Kafka.')\n",
    "        print(str(ex))\n",
    "    finally:\n",
    "        return _producer\n",
    "\n",
    "if __name__ == '__main__':\n",
    "    topic = 'Transaction'\n",
    "    print('Publishing records..')\n",
    "    producer = connect_kafka_producer()\n",
    "\n",
    "    if producer is None:\n",
    "        print('Exiting script due to connection error.')\n",
    "        exit()\n",
    "\n",
    "    log_file = 'data/LI-Small_Trans.csv'\n",
    "\n",
    "    with open(log_file, 'r') as file:\n",
    "        reader = csv.reader(file, delimiter=',')\n",
    "        headers = next(reader) \n",
    "\n",
    "        records_to_publish = []\n",
    "\n",
    "        for row in reader:\n",
    "            record = {\n",
    "                'Timestamp': dt.datetime.now().strftime('%Y-%m-%d %H:%M:%S'),\n",
    "                'From_Bank': row[1] if len(row) > 1 else '',\n",
    "                'Account': row[2] if len(row) > 2 else '',\n",
    "                'To_Bank': row[3] if len(row) > 3 else '',\n",
    "                'To_Account': row[4] if len(row) > 4 else '',\n",
    "                'Amount_Received': row[5] if len(row) > 5 else '',\n",
    "                'Receiving_Currency': row[6] if len(row) > 6 else '',\n",
    "                'Amount_Paid': row[7] if len(row) > 7 else '',\n",
    "                'Payment_Currency': row[8] if len(row) > 8 else '',\n",
    "                'Payment_Format': row[9] if len(row) > 9 else '',\n",
    "                'Is_Laundering': row[10] if len(row) > 10 else ''\n",
    "\n",
    "            }\n",
    "\n",
    "            records_to_publish.append(record)\n",
    "\n",
    "            if len(records_to_publish) == 5:\n",
    "                publish_message(producer, topic, records_to_publish)\n",
    "                records_to_publish = []\n",
    "\n",
    "            sleep(1)\n",
    "\n",
    "        if records_to_publish:\n",
    "            publish_message(producer, topic, records_to_publish)\n",
    "            \n"
   ]
  },
  {
   "cell_type": "code",
   "execution_count": null,
   "metadata": {},
   "outputs": [],
   "source": []
  }
 ],
 "metadata": {
  "kernelspec": {
   "display_name": "Python 3 (ipykernel)",
   "language": "python",
   "name": "python3"
  },
  "language_info": {
   "codemirror_mode": {
    "name": "ipython",
    "version": 3
   },
   "file_extension": ".py",
   "mimetype": "text/x-python",
   "name": "python",
   "nbconvert_exporter": "python",
   "pygments_lexer": "ipython3",
   "version": "3.10.13"
  },
  "vscode": {
   "interpreter": {
    "hash": "916dbcbb3f70747c44a77c7bcd40155683ae19c65e1c03b4aa3499c5328201f1"
   }
  }
 },
 "nbformat": 4,
 "nbformat_minor": 2
}
